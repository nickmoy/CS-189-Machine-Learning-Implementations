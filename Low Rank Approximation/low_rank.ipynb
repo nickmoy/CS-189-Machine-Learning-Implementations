{
 "cells": [
  {
   "cell_type": "code",
   "execution_count": 6,
   "metadata": {
    "colab": {},
    "colab_type": "code",
    "id": "ykETlollcv4u"
   },
   "outputs": [],
   "source": [
    "import numpy as np\n",
    "import matplotlib.pyplot as plt\n",
    "from imageio import imread, imwrite\n",
    "\n",
    "%matplotlib inline "
   ]
  },
  {
   "cell_type": "markdown",
   "metadata": {
    "colab_type": "text",
    "id": "k9u5nrI8cv4y"
   },
   "source": [
    "# Part a)"
   ]
  },
  {
   "cell_type": "code",
   "execution_count": 11,
   "metadata": {
    "colab": {},
    "colab_type": "code",
    "id": "7N73kBYDcv4z"
   },
   "outputs": [],
   "source": [
    "def low_rank_approximation(X, rank):\n",
    "    # YOUR CODE GOES HERE\n",
    "    U, S, VH = np.linalg.svd(X, full_matrices=False)\n",
    "    for i in range(rank, len(S)):\n",
    "        S[i] = 0\n",
    "    return np.dot(U * S, VH)"
   ]
  },
  {
   "cell_type": "code",
   "execution_count": 19,
   "metadata": {
    "colab": {
     "base_uri": "https://localhost:8080/",
     "height": 295
    },
    "colab_type": "code",
    "id": "A3WfnABVcv43",
    "outputId": "5442a732-827a-4de9-fe4b-6c7e5056c651"
   },
   "outputs": [
    {
     "name": "stderr",
     "output_type": "stream",
     "text": [
      "Lossy conversion from float64 to uint8. Range [-1.0006768980573728, 215.45006443400595]. Convert image to uint8 prior to saving to suppress this warning.\n",
      "Lossy conversion from float64 to uint8. Range [-2.5920753327970556, 217.90012828664968]. Convert image to uint8 prior to saving to suppress this warning.\n",
      "Lossy conversion from float64 to uint8. Range [-1.838667796229856, 223.73626166859208]. Convert image to uint8 prior to saving to suppress this warning.\n"
     ]
    }
   ],
   "source": [
    "face = imread(\"./data/face.jpg\")\n",
    "\n",
    "ranks = [5, 20, 100]\n",
    "approxes = []\n",
    "for rank in ranks:\n",
    "    approx = low_rank_approximation(face, rank)\n",
    "    approxes.append(approx)\n",
    "    imwrite('rank-' + str(rank) + 'approx.jpg', approxes[-1])"
   ]
  },
  {
   "cell_type": "markdown",
   "metadata": {
    "colab_type": "text",
    "id": "hmwHey7Qcv5B"
   },
   "source": [
    "# Part b)"
   ]
  },
  {
   "cell_type": "code",
   "execution_count": 20,
   "metadata": {
    "colab": {
     "base_uri": "https://localhost:8080/",
     "height": 295
    },
    "colab_type": "code",
    "id": "GHuwODLKjiaC",
    "outputId": "b92c9c79-9c9b-4574-ea2e-71b2e799f8c1"
   },
   "outputs": [
    {
     "name": "stderr",
     "output_type": "stream",
     "text": [
      "Lossy conversion from float64 to uint8. Range [84.57691733909182, 231.10834339073426]. Convert image to uint8 prior to saving to suppress this warning.\n",
      "Lossy conversion from float64 to uint8. Range [86.67033547985925, 231.695242396234]. Convert image to uint8 prior to saving to suppress this warning.\n",
      "Lossy conversion from float64 to uint8. Range [85.91888846990022, 231.98040694405833]. Convert image to uint8 prior to saving to suppress this warning.\n"
     ]
    }
   ],
   "source": [
    "sky = imread(\"./data/sky.jpg\")\n",
    "\n",
    "ranks = [5, 20, 100]\n",
    "approxes = []\n",
    "for rank in ranks:\n",
    "    approx = low_rank_approximation(sky, rank)\n",
    "    approxes.append(approx)\n",
    "    imwrite('rank-' + str(rank) + 'sky.jpg', approxes[-1])"
   ]
  },
  {
   "cell_type": "markdown",
   "metadata": {
    "colab_type": "text",
    "id": "mIJvy0OFcv5H"
   },
   "source": [
    "# Part c)"
   ]
  },
  {
   "cell_type": "code",
   "execution_count": 21,
   "metadata": {
    "colab": {},
    "colab_type": "code",
    "id": "pTkmriVJcv5B"
   },
   "outputs": [],
   "source": [
    "def mse(img1, img2):\n",
    "    # YOUR CODE GOES HERE \n",
    "    return np.sum((img1 - img2)**2) / (img1.shape[0] * img1.shape[1])"
   ]
  },
  {
   "cell_type": "code",
   "execution_count": 26,
   "metadata": {},
   "outputs": [],
   "source": [
    "ranks = np.arange(1, 101)\n",
    "face_errors = []\n",
    "sky_errors = []\n",
    "\n",
    "for rank in ranks:\n",
    "    face_approx = low_rank_approximation(face, rank)\n",
    "    sky_approx = low_rank_approximation(sky, rank)\n",
    "    \n",
    "    face_errors.append(mse(face_approx, face))\n",
    "    sky_errors.append(mse(sky_approx, sky))"
   ]
  },
  {
   "cell_type": "code",
   "execution_count": 27,
   "metadata": {},
   "outputs": [
    {
     "data": {
      "text/plain": [
       "<matplotlib.legend.Legend at 0x112201650>"
      ]
     },
     "execution_count": 27,
     "metadata": {},
     "output_type": "execute_result"
    },
    {
     "data": {
      "image/png": "[encoded data removed]",
      "text/plain": [
       "<Figure size 432x288 with 1 Axes>"
      ]
     },
     "metadata": {
      "needs_background": "light"
     },
     "output_type": "display_data"
    }
   ],
   "source": [
    "plt.plot(ranks, face_errors, label=\"Face\")\n",
    "plt.plot(ranks, sky_errors, label=\"Sky\")\n",
    "\n",
    "plt.xlabel(\"rank of approximation\")\n",
    "plt.ylabel(\"Mean Squared Error\")\n",
    "plt.legend()"
   ]
  },
  {
   "cell_type": "code",
   "execution_count": 28,
   "metadata": {},
   "outputs": [],
   "source": [
    "face_approxes = []\n",
    "sky_approxes = []\n",
    "\n",
    "for rank in ranks:\n",
    "    face_approx = low_rank_approximation(face, rank)\n",
    "    sky_approx = low_rank_approximation(sky, rank)\n",
    "    \n",
    "    face_approxes.append(face_approx)\n",
    "    sky_approxes.append(sky_approx)"
   ]
  },
  {
   "cell_type": "code",
   "execution_count": 29,
   "metadata": {},
   "outputs": [
    {
     "name": "stderr",
     "output_type": "stream",
     "text": [
      "Lossy conversion from float64 to uint8. Range [-1.9635373802820115, 220.60361069329608]. Convert image to uint8 prior to saving to suppress this warning.\n",
      "Lossy conversion from float64 to uint8. Range [-1.9336688492942498, 223.4212755586802]. Convert image to uint8 prior to saving to suppress this warning.\n",
      "Lossy conversion from float64 to uint8. Range [-2.4596650726000866, 223.0406602199797]. Convert image to uint8 prior to saving to suppress this warning.\n"
     ]
    }
   ],
   "source": [
    "imwrite('rank-40face.jpg', face_approxes[39])\n",
    "imwrite('rank-50face.jpg', face_approxes[49])\n",
    "imwrite('rank-60face.jpg', face_approxes[59])"
   ]
  },
  {
   "cell_type": "code",
   "execution_count": 35,
   "metadata": {},
   "outputs": [
    {
     "name": "stderr",
     "output_type": "stream",
     "text": [
      "Lossy conversion from float64 to uint8. Range [86.549873095283, 231.080218262762]. Convert image to uint8 prior to saving to suppress this warning.\n"
     ]
    }
   ],
   "source": [
    "imwrite('rank-10sky.jpg', sky_approxes[9])"
   ]
  },
  {
   "cell_type": "code",
   "execution_count": null,
   "metadata": {},
   "outputs": [],
   "source": []
  }
 ],
 "metadata": {
  "anaconda-cloud": {},
  "colab": {
   "collapsed_sections": [],
   "name": "low_rank.ipynb",
   "provenance": [],
   "version": "0.3.2"
  },
  "kernelspec": {
   "display_name": "Python 3",
   "language": "python",
   "name": "python3"
  },
  "language_info": {
   "codemirror_mode": {
    "name": "ipython",
    "version": 3
   },
   "file_extension": ".py",
   "mimetype": "text/x-python",
   "name": "python",
   "nbconvert_exporter": "python",
   "pygments_lexer": "ipython3",
   "version": "3.7.6"
  }
 },
 "nbformat": 4,
 "nbformat_minor": 1
}
