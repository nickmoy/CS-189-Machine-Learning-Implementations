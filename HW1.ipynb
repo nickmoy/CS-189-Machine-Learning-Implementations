{
 "cells": [
  {
   "cell_type": "code",
   "execution_count": 1,
   "metadata": {},
   "outputs": [],
   "source": [
    "import sys\n",
    "if sys.version_info[0] < 3:\n",
    "    raise Exception(\"Python 3 not detected.\")\n",
    "import numpy as np\n",
    "import matplotlib.pyplot as plt\n",
    "from sklearn import svm\n",
    "from sklearn import metrics\n",
    "from scipy import io\n",
    "from save_csv import results_to_csv"
   ]
  },
  {
   "cell_type": "code",
   "execution_count": 2,
   "metadata": {},
   "outputs": [
    {
     "name": "stdout",
     "output_type": "stream",
     "text": [
      "\n",
      "loaded mnist data!\n",
      "test_data (10000, 784)\n",
      "training_data (60000, 784)\n",
      "training_labels (60000, 1)\n",
      "\n",
      "loaded spam data!\n",
      "test_data (5857, 32)\n",
      "training_data (5172, 32)\n",
      "training_labels (5172, 1)\n",
      "\n",
      "loaded cifar10 data!\n",
      "test_data (10000, 3072)\n",
      "training_data (50000, 3072)\n",
      "training_labels (50000, 1)\n"
     ]
    }
   ],
   "source": [
    "for data_name in [\"mnist\", \"spam\", \"cifar10\"]:\n",
    "    data = io.loadmat(\"data/%s_data.mat\" % data_name)\n",
    "    print(\"\\nloaded %s data!\" % data_name)\n",
    "    fields = \"test_data\", \"training_data\", \"training_labels\"\n",
    "    for field in fields:\n",
    "        print(field, data[field].shape)"
   ]
  },
  {
   "cell_type": "code",
   "execution_count": 3,
   "metadata": {},
   "outputs": [
    {
     "name": "stdout",
     "output_type": "stream",
     "text": [
      "(50000, 784)\n",
      "(10000, 784)\n"
     ]
    }
   ],
   "source": [
    "# Problem 2a\n",
    "data = io.loadmat(\"data/mnist_data.mat\")\n",
    "mnist_validation = data[\"training_data\"]\n",
    "mnist_validation = np.concatenate((mnist_validation, data[\"training_labels\"]), axis=1)\n",
    "np.random.shuffle(mnist_validation)\n",
    "\n",
    "mnist_training = mnist_validation[10000:]\n",
    "mnist_training_sample = mnist_training[:, :-1]\n",
    "mnist_training_label = mnist_training[:, -1:]\n",
    "\n",
    "mnist = mnist_validation[0:10000]\n",
    "mnist_validation_sample = mnist[:, :-1]\n",
    "mnist_validation_label = mnist[:, -1:]\n",
    "\n",
    "print(mnist_training_sample.shape)\n",
    "print(mnist_validation_sample.shape)"
   ]
  },
  {
   "cell_type": "code",
   "execution_count": 4,
   "metadata": {},
   "outputs": [
    {
     "name": "stdout",
     "output_type": "stream",
     "text": [
      "(5172, 33)\n"
     ]
    }
   ],
   "source": [
    "# Problem 2b\n",
    "data = io.loadmat(\"data/spam_data.mat\")\n",
    "spam_validation = data[\"training_data\"]\n",
    "spam_validation = np.concatenate((spam_validation, data[\"training_labels\"]), axis=1)\n",
    "np.random.shuffle(spam_validation)\n",
    "\n",
    "spam_t = spam_validation[1035:]\n",
    "spam_training_sample = spam_t[:, :-1]\n",
    "spam_training_label = spam_t[:, -1:]\n",
    "\n",
    "spam_v = spam_validation[0:1035]\n",
    "spam_validation_sample = spam_v[:, :-1]\n",
    "spam_validation_label = spam_v[:, -1:]\n",
    "\n",
    "print(spam_validation.shape)"
   ]
  },
  {
   "cell_type": "code",
   "execution_count": 5,
   "metadata": {},
   "outputs": [
    {
     "name": "stdout",
     "output_type": "stream",
     "text": [
      "(50000, 3073)\n"
     ]
    }
   ],
   "source": [
    "# Problem 2c\n",
    "data = io.loadmat(\"data/cifar10_data.mat\")\n",
    "cifar10_validation = data[\"training_data\"]\n",
    "cifar10_validation = np.concatenate((cifar10_validation, data[\"training_labels\"]), axis=1)\n",
    "np.random.shuffle(cifar10_validation)\n",
    "\n",
    "cifar10_t = cifar10_validation[5000:]\n",
    "cifar10_training_sample = cifar10_t[:, :-1]\n",
    "cifar10_training_label = cifar10_t[:, -1:]\n",
    "\n",
    "cifar10_v = cifar10_validation[0:5000]\n",
    "cifar10_validation_sample = cifar10_v[:, :-1]\n",
    "cifar10_validation_label = cifar10_v[:, -1:]\n",
    "\n",
    "print(cifar10_validation.shape)"
   ]
  },
  {
   "cell_type": "code",
   "execution_count": null,
   "metadata": {},
   "outputs": [],
   "source": [
    "# Problem 3a\n",
    "clf = svm.SVC(kernel='linear')\n",
    "ans = []\n",
    "for i in [100, 200, 500, 1000, 2000, 5000, 10000]:\n",
    "    X = mnist_training_sample[0:i]\n",
    "    y = mnist_training_label[0:i].ravel()\n",
    "    clf.fit(X,y)\n",
    "    y_pred = clf.predict(mnist_validation_sample)\n",
    "    ans.append(metrics.acuracy_score(mnist_validation_label, y_pred))\n",
    "print(ans)"
   ]
  },
  {
   "cell_type": "code",
   "execution_count": 7,
   "metadata": {},
   "outputs": [
    {
     "data": {
      "text/plain": [
       "0.7175"
      ]
     },
     "execution_count": 7,
     "metadata": {},
     "output_type": "execute_result"
    }
   ],
   "source": [
    "# Problem 3a\n",
    "clf = svm.SVC(kernel='linear')\n",
    "\n",
    "X = mnist_training_sample[0:100]\n",
    "y = mnist_training_label[0:100].ravel()\n",
    "clf.fit(X,y)\n",
    "y_pred = clf.predict(mnist_validation_sample)\n",
    "metrics.accuracy_score(mnist_validation_label, y_pred)"
   ]
  },
  {
   "cell_type": "code",
   "execution_count": 8,
   "metadata": {},
   "outputs": [
    {
     "data": {
      "text/plain": [
       "0.8092"
      ]
     },
     "execution_count": 8,
     "metadata": {},
     "output_type": "execute_result"
    }
   ],
   "source": [
    "X = mnist_training_sample[0:200]\n",
    "y = mnist_training_label[0:200].ravel()\n",
    "clf.fit(X,y)\n",
    "y_pred = clf.predict(mnist_validation_sample)\n",
    "metrics.accuracy_score(mnist_validation_label, y_pred)"
   ]
  },
  {
   "cell_type": "code",
   "execution_count": 9,
   "metadata": {},
   "outputs": [
    {
     "data": {
      "text/plain": [
       "0.8649"
      ]
     },
     "execution_count": 9,
     "metadata": {},
     "output_type": "execute_result"
    }
   ],
   "source": [
    "X = mnist_training_sample[0:500]\n",
    "y = mnist_training_label[0:500].ravel()\n",
    "clf.fit(X,y)\n",
    "y_pred = clf.predict(mnist_validation_sample)\n",
    "metrics.accuracy_score(mnist_validation_label, y_pred)"
   ]
  },
  {
   "cell_type": "code",
   "execution_count": 10,
   "metadata": {},
   "outputs": [
    {
     "data": {
      "text/plain": [
       "0.8828"
      ]
     },
     "execution_count": 10,
     "metadata": {},
     "output_type": "execute_result"
    }
   ],
   "source": [
    "X = mnist_training_sample[0:1000]\n",
    "y = mnist_training_label[0:1000].ravel()\n",
    "clf.fit(X,y)\n",
    "y_pred = clf.predict(mnist_validation_sample)\n",
    "metrics.accuracy_score(mnist_validation_label, y_pred)"
   ]
  },
  {
   "cell_type": "code",
   "execution_count": 11,
   "metadata": {},
   "outputs": [
    {
     "data": {
      "text/plain": [
       "0.8924"
      ]
     },
     "execution_count": 11,
     "metadata": {},
     "output_type": "execute_result"
    }
   ],
   "source": [
    "X = mnist_training_sample[0:2000]\n",
    "y = mnist_training_label[0:2000].ravel()\n",
    "clf.fit(X,y)\n",
    "y_pred = clf.predict(mnist_validation_sample)\n",
    "metrics.accuracy_score(mnist_validation_label, y_pred)"
   ]
  },
  {
   "cell_type": "code",
   "execution_count": 12,
   "metadata": {},
   "outputs": [
    {
     "data": {
      "text/plain": [
       "0.9056"
      ]
     },
     "execution_count": 12,
     "metadata": {},
     "output_type": "execute_result"
    }
   ],
   "source": [
    "X = mnist_training_sample[0:5000]\n",
    "y = mnist_training_label[0:5000].ravel()\n",
    "clf.fit(X,y)\n",
    "y_pred = clf.predict(mnist_validation_sample)\n",
    "metrics.accuracy_score(mnist_validation_label, y_pred)"
   ]
  },
  {
   "cell_type": "code",
   "execution_count": 13,
   "metadata": {},
   "outputs": [
    {
     "data": {
      "text/plain": [
       "0.9069"
      ]
     },
     "execution_count": 13,
     "metadata": {},
     "output_type": "execute_result"
    }
   ],
   "source": [
    "X = mnist_training_sample[0:10000]\n",
    "y = mnist_training_label[0:10000].ravel()\n",
    "clf.fit(X,y)\n",
    "y_pred = clf.predict(mnist_validation_sample)\n",
    "metrics.accuracy_score(mnist_validation_label, y_pred)"
   ]
  },
  {
   "cell_type": "code",
   "execution_count": null,
   "metadata": {},
   "outputs": [],
   "source": [
    "# Problem 3b\n",
    "clf = svm.SVC(kernel='linear')\n",
    "ans = []\n",
    "for i in [100, 200, 500, 1000, 2000, 5172]:\n",
    "    X = spam_training_sample[0:i]\n",
    "    y = spam_label[0:i].ravel()\n",
    "    clf.fit(X,y)\n",
    "    y_pred = clf.predict(spam_validation_sample)\n",
    "    ans.append(metrics.acuracy_score(spam_validation_label, y_pred))\n",
    "print(ans)"
   ]
  },
  {
   "cell_type": "code",
   "execution_count": 15,
   "metadata": {},
   "outputs": [
    {
     "data": {
      "text/plain": [
       "0.7661835748792271"
      ]
     },
     "execution_count": 15,
     "metadata": {},
     "output_type": "execute_result"
    }
   ],
   "source": [
    "# Problem 3b\n",
    "X = spam_training_sample[0:100]\n",
    "y = spam_training_label[0:100].ravel()\n",
    "clf.fit(X,y)\n",
    "y_pred = clf.predict(spam_validation_sample)\n",
    "metrics.accuracy_score(spam_validation_label, y_pred)"
   ]
  },
  {
   "cell_type": "code",
   "execution_count": 16,
   "metadata": {},
   "outputs": [
    {
     "data": {
      "text/plain": [
       "0.7845410628019324"
      ]
     },
     "execution_count": 16,
     "metadata": {},
     "output_type": "execute_result"
    }
   ],
   "source": [
    "X = spam_training_sample[0:200]\n",
    "y = spam_training_label[0:200].ravel()\n",
    "clf.fit(X,y)\n",
    "y_pred = clf.predict(spam_validation_sample)\n",
    "metrics.accuracy_score(spam_validation_label, y_pred)"
   ]
  },
  {
   "cell_type": "code",
   "execution_count": 17,
   "metadata": {},
   "outputs": [
    {
     "data": {
      "text/plain": [
       "0.8019323671497585"
      ]
     },
     "execution_count": 17,
     "metadata": {},
     "output_type": "execute_result"
    }
   ],
   "source": [
    "X = spam_training_sample[0:500]\n",
    "y = spam_training_label[0:500].ravel()\n",
    "clf.fit(X,y)\n",
    "y_pred = clf.predict(spam_validation_sample)\n",
    "metrics.accuracy_score(spam_validation_label, y_pred)"
   ]
  },
  {
   "cell_type": "code",
   "execution_count": 18,
   "metadata": {},
   "outputs": [
    {
     "data": {
      "text/plain": [
       "0.8048309178743961"
      ]
     },
     "execution_count": 18,
     "metadata": {},
     "output_type": "execute_result"
    }
   ],
   "source": [
    "X = spam_training_sample[0:1000]\n",
    "y = spam_training_label[0:1000].ravel()\n",
    "clf.fit(X,y)\n",
    "y_pred = clf.predict(spam_validation_sample)\n",
    "metrics.accuracy_score(spam_validation_label, y_pred)"
   ]
  },
  {
   "cell_type": "code",
   "execution_count": 19,
   "metadata": {},
   "outputs": [
    {
     "data": {
      "text/plain": [
       "0.8096618357487922"
      ]
     },
     "execution_count": 19,
     "metadata": {},
     "output_type": "execute_result"
    }
   ],
   "source": [
    "X = spam_training_sample[0:2000]\n",
    "y = spam_training_label[0:2000].ravel()\n",
    "clf.fit(X,y)\n",
    "y_pred = clf.predict(spam_validation_sample)\n",
    "metrics.accuracy_score(spam_validation_label, y_pred)"
   ]
  },
  {
   "cell_type": "code",
   "execution_count": 58,
   "metadata": {},
   "outputs": [
    {
     "data": {
      "text/plain": [
       "0.8057971014492754"
      ]
     },
     "execution_count": 58,
     "metadata": {},
     "output_type": "execute_result"
    }
   ],
   "source": [
    "X = spam_training_sample[:]\n",
    "y = spam_training_label[:].ravel()\n",
    "clf.fit(X,y)\n",
    "y_pred = clf.predict(spam_validation_sample[:])\n",
    "metrics.accuracy_score(spam_validation_label[:], y_pred)"
   ]
  },
  {
   "cell_type": "code",
   "execution_count": null,
   "metadata": {},
   "outputs": [],
   "source": [
    "# Problem 3c\n",
    "clf = svm.SVC(kernel='linear')\n",
    "ans = []\n",
    "for i in [100, 200, 500, 1000, 2000, 5000]:\n",
    "    X = cifar10_training_sample[0:i]\n",
    "    y = cifar10_training_label[0:i].ravel()\n",
    "    clf.fit(X,y)\n",
    "    y_pred = clf.predict(cifar10_validation_sample)\n",
    "    ans.append(metrics.acuracy_score(cifar10_validation_label, y_pred))\n",
    "print(ans)"
   ]
  },
  {
   "cell_type": "code",
   "execution_count": 21,
   "metadata": {},
   "outputs": [
    {
     "data": {
      "text/plain": [
       "0.2088"
      ]
     },
     "execution_count": 21,
     "metadata": {},
     "output_type": "execute_result"
    }
   ],
   "source": [
    "# Problem 3c\n",
    "X = cifar10_training_sample[0:100]\n",
    "y = cifar10_training_label[0:100].ravel()\n",
    "clf.fit(X,y)\n",
    "y_pred = clf.predict(cifar10_validation_sample)\n",
    "metrics.accuracy_score(cifar10_validation_label, y_pred)"
   ]
  },
  {
   "cell_type": "code",
   "execution_count": 22,
   "metadata": {},
   "outputs": [
    {
     "data": {
      "text/plain": [
       "0.2382"
      ]
     },
     "execution_count": 22,
     "metadata": {},
     "output_type": "execute_result"
    }
   ],
   "source": [
    "X = cifar10_training_sample[0:200]\n",
    "y = cifar10_training_label[0:200].ravel()\n",
    "clf.fit(X,y)\n",
    "y_pred = clf.predict(cifar10_validation_sample)\n",
    "metrics.accuracy_score(cifar10_validation_label, y_pred)"
   ]
  },
  {
   "cell_type": "code",
   "execution_count": 23,
   "metadata": {},
   "outputs": [
    {
     "data": {
      "text/plain": [
       "0.2694"
      ]
     },
     "execution_count": 23,
     "metadata": {},
     "output_type": "execute_result"
    }
   ],
   "source": [
    "X = cifar10_training_sample[0:500]\n",
    "y = cifar10_training_label[0:500].ravel()\n",
    "clf.fit(X,y)\n",
    "y_pred = clf.predict(cifar10_validation_sample)\n",
    "metrics.accuracy_score(cifar10_validation_label, y_pred)"
   ]
  },
  {
   "cell_type": "code",
   "execution_count": 25,
   "metadata": {},
   "outputs": [
    {
     "data": {
      "text/plain": [
       "0.2858"
      ]
     },
     "execution_count": 25,
     "metadata": {},
     "output_type": "execute_result"
    }
   ],
   "source": [
    "X = cifar10_training_sample[0:1000]\n",
    "y = cifar10_training_label[0:1000].ravel()\n",
    "clf.fit(X,y)\n",
    "y_pred = clf.predict(cifar10_validation_sample)\n",
    "metrics.accuracy_score(cifar10_validation_label, y_pred)"
   ]
  },
  {
   "cell_type": "code",
   "execution_count": 26,
   "metadata": {},
   "outputs": [
    {
     "data": {
      "text/plain": [
       "0.2978"
      ]
     },
     "execution_count": 26,
     "metadata": {},
     "output_type": "execute_result"
    }
   ],
   "source": [
    "X = cifar10_training_sample[0:2000]\n",
    "y = cifar10_training_label[0:2000].ravel()\n",
    "clf.fit(X,y)\n",
    "y_pred = clf.predict(cifar10_validation_sample)\n",
    "metrics.accuracy_score(cifar10_validation_label, y_pred)"
   ]
  },
  {
   "cell_type": "code",
   "execution_count": 27,
   "metadata": {},
   "outputs": [
    {
     "data": {
      "text/plain": [
       "0.2922"
      ]
     },
     "execution_count": 27,
     "metadata": {},
     "output_type": "execute_result"
    }
   ],
   "source": [
    "X = cifar10_training_sample[0:5000]\n",
    "y = cifar10_training_label[0:5000].ravel()\n",
    "clf.fit(X,y)\n",
    "y_pred = clf.predict(cifar10_validation_sample)\n",
    "metrics.accuracy_score(cifar10_validation_label, y_pred)"
   ]
  },
  {
   "cell_type": "code",
   "execution_count": 14,
   "metadata": {},
   "outputs": [
    {
     "data": {
      "text/plain": [
       "Text(0.5, 0, 'amount of training data for mnist')"
      ]
     },
     "execution_count": 14,
     "metadata": {},
     "output_type": "execute_result"
    },
    {
     "data": {
      "image/png": "[encoded data removed]",
      "text/plain": [
       "<Figure size 432x288 with 1 Axes>"
      ]
     },
     "metadata": {
      "needs_background": "light"
     },
     "output_type": "display_data"
    }
   ],
   "source": [
    "plt.plot([100, 200, 500, 1000, 2000, 5000, 10000], [0.7175, 0.8092, 0.8649, 0.8828, 0.8924, 0.9056, 0.9069])\n",
    "plt.ylabel(\"accuracy_score\")\n",
    "plt.xlabel(\"amount of training data for mnist\")"
   ]
  },
  {
   "cell_type": "code",
   "execution_count": 20,
   "metadata": {},
   "outputs": [
    {
     "data": {
      "text/plain": [
       "Text(0.5, 0, 'amount of training data for spam')"
      ]
     },
     "execution_count": 20,
     "metadata": {},
     "output_type": "execute_result"
    },
    {
     "data": {
      "image/png": "[encoded data removed]",
      "text/plain": [
       "<Figure size 432x288 with 1 Axes>"
      ]
     },
     "metadata": {
      "needs_background": "light"
     },
     "output_type": "display_data"
    }
   ],
   "source": [
    "plt.plot([100, 200, 500, 1000, 2000, 5172], [0.766, 0.784, 0.802, 0.805, 0.8097, 0.8058])\n",
    "plt.ylabel(\"accuracy_score\")\n",
    "plt.xlabel(\"amount of training data for spam\")"
   ]
  },
  {
   "cell_type": "code",
   "execution_count": 28,
   "metadata": {},
   "outputs": [
    {
     "data": {
      "text/plain": [
       "Text(0.5, 0, 'amount of training data for cifar10')"
      ]
     },
     "execution_count": 28,
     "metadata": {},
     "output_type": "execute_result"
    },
    {
     "data": {
      "image/png": "[encoded data removed]",
      "text/plain": [
       "<Figure size 432x288 with 1 Axes>"
      ]
     },
     "metadata": {
      "needs_background": "light"
     },
     "output_type": "display_data"
    }
   ],
   "source": [
    "plt.plot([100, 200, 500, 1000, 2000, 5000], [0.2088, 0.2382, 0.2894, 0.2856, 0.2978, 0.2922])\n",
    "plt.ylabel(\"accuracy_score\")\n",
    "plt.xlabel(\"amount of training data for cifar10\")"
   ]
  },
  {
   "cell_type": "code",
   "execution_count": 24,
   "metadata": {},
   "outputs": [
    {
     "ename": "SyntaxError",
     "evalue": "unexpected EOF while parsing (<ipython-input-24-1d9d6d8523d1>, line 1)",
     "output_type": "error",
     "traceback": [
      "\u001b[0;36m  File \u001b[0;32m\"<ipython-input-24-1d9d6d8523d1>\"\u001b[0;36m, line \u001b[0;32m1\u001b[0m\n\u001b[0;31m    for c in [1e-10, 1e-9, 1e-7, 1e-5, 1e-4, 1e5, 1e10, 1e20]:\u001b[0m\n\u001b[0m                                                              ^\u001b[0m\n\u001b[0;31mSyntaxError\u001b[0m\u001b[0;31m:\u001b[0m unexpected EOF while parsing\n"
     ]
    }
   ],
   "source": [
    "# Problem 4a\n",
    "ans =[]\n",
    "for c in [1e-10, 1e-9, 1e-7, 1e-5, 1e-4, 1e5, 1e10, 1e20]:\n",
    "    clf = svm.SVC(kernel='linear', C=c)\n",
    "\n",
    "    X = mnist_training_sample[0:10000]\n",
    "    y = mnist_training_label[0:10000].ravel()\n",
    "    clf.fit(X,y)\n",
    "    y_pred = clf.predict(mnist_validation_sample[0:10000])\n",
    "    ans.append(metrics.accuracy_score(mnist_validation_label[0:10000], y_pred))\n",
    "print(ans)"
   ]
  },
  {
   "cell_type": "code",
   "execution_count": 90,
   "metadata": {},
   "outputs": [
    {
     "data": {
      "text/plain": [
       "0.1016"
      ]
     },
     "execution_count": 90,
     "metadata": {},
     "output_type": "execute_result"
    }
   ],
   "source": [
    "# Problem 4a\n",
    "clf = svm.SVC(kernel='linear', C=0.1e-10)\n",
    "\n",
    "X = mnist_training_sample[0:10000]\n",
    "y = mnist_training_label[0:10000].ravel()\n",
    "clf.fit(X,y)\n",
    "y_pred = clf.predict(mnist_validation_sample[0:10000])\n",
    "metrics.accuracy_score(mnist_validation_label[0:10000], y_pred)"
   ]
  },
  {
   "cell_type": "code",
   "execution_count": 93,
   "metadata": {},
   "outputs": [
    {
     "data": {
      "text/plain": [
       "0.6451"
      ]
     },
     "execution_count": 93,
     "metadata": {},
     "output_type": "execute_result"
    }
   ],
   "source": [
    "clf = svm.SVC(kernel='linear', C=1e-9)\n",
    "\n",
    "X = mnist_training_sample[0:10000]\n",
    "y = mnist_training_label[0:10000].ravel()\n",
    "clf.fit(X,y)\n",
    "y_pred = clf.predict(mnist_validation_sample[0:10000])\n",
    "metrics.accuracy_score(mnist_validation_label[0:10000], y_pred)"
   ]
  },
  {
   "cell_type": "code",
   "execution_count": 92,
   "metadata": {},
   "outputs": [
    {
     "data": {
      "text/plain": [
       "0.9248"
      ]
     },
     "execution_count": 92,
     "metadata": {},
     "output_type": "execute_result"
    }
   ],
   "source": [
    "clf = svm.SVC(kernel='linear', C=1e-7)\n",
    "\n",
    "X = mnist_training_sample[0:10000]\n",
    "y = mnist_training_label[0:10000].ravel()\n",
    "clf.fit(X,y)\n",
    "y_pred = clf.predict(mnist_validation_sample[0:10000])\n",
    "metrics.accuracy_score(mnist_validation_label[0:10000], y_pred)"
   ]
  },
  {
   "cell_type": "code",
   "execution_count": 91,
   "metadata": {},
   "outputs": [
    {
     "data": {
      "text/plain": [
       "0.914"
      ]
     },
     "execution_count": 91,
     "metadata": {},
     "output_type": "execute_result"
    }
   ],
   "source": [
    "clf = svm.SVC(kernel='linear', C=1e-5)\n",
    "\n",
    "X = mnist_training_sample[0:10000]\n",
    "y = mnist_training_label[0:10000].ravel()\n",
    "clf.fit(X,y)\n",
    "y_pred = clf.predict(mnist_validation_sample[0:10000])\n",
    "metrics.accuracy_score(mnist_validation_label[0:10000], y_pred)"
   ]
  },
  {
   "cell_type": "code",
   "execution_count": 104,
   "metadata": {},
   "outputs": [
    {
     "data": {
      "text/plain": [
       "0.905"
      ]
     },
     "execution_count": 104,
     "metadata": {},
     "output_type": "execute_result"
    }
   ],
   "source": [
    "clf = svm.SVC(kernel='linear', C=1e-4)\n",
    "\n",
    "X = mnist_training_sample[0:10000]\n",
    "y = mnist_training_label[0:10000].ravel()\n",
    "clf.fit(X,y)\n",
    "y_pred = clf.predict(mnist_validation_sample[0:10000])\n",
    "metrics.accuracy_score(mnist_validation_label[0:10000], y_pred)"
   ]
  },
  {
   "cell_type": "code",
   "execution_count": 94,
   "metadata": {},
   "outputs": [
    {
     "data": {
      "text/plain": [
       "0.904"
      ]
     },
     "execution_count": 94,
     "metadata": {},
     "output_type": "execute_result"
    }
   ],
   "source": [
    "clf = svm.SVC(kernel='linear', C=1e5)\n",
    "\n",
    "X = mnist_training_sample[0:10000]\n",
    "y = mnist_training_label[0:10000].ravel()\n",
    "clf.fit(X,y)\n",
    "y_pred = clf.predict(mnist_validation_sample[0:10000])\n",
    "metrics.accuracy_score(mnist_validation_label[0:10000], y_pred)"
   ]
  },
  {
   "cell_type": "code",
   "execution_count": 99,
   "metadata": {},
   "outputs": [
    {
     "data": {
      "text/plain": [
       "0.904"
      ]
     },
     "execution_count": 99,
     "metadata": {},
     "output_type": "execute_result"
    }
   ],
   "source": [
    "clf = svm.SVC(kernel='linear', C=1e10)\n",
    "\n",
    "X = mnist_training_sample[0:10000]\n",
    "y = mnist_training_label[0:10000].ravel()\n",
    "clf.fit(X,y)\n",
    "y_pred = clf.predict(mnist_validation_sample[0:10000])\n",
    "metrics.accuracy_score(mnist_validation_label[0:10000], y_pred)"
   ]
  },
  {
   "cell_type": "code",
   "execution_count": 110,
   "metadata": {},
   "outputs": [
    {
     "data": {
      "text/plain": [
       "0.904"
      ]
     },
     "execution_count": 110,
     "metadata": {},
     "output_type": "execute_result"
    }
   ],
   "source": [
    "clf = svm.SVC(kernel='linear', C=1e20)\n",
    "\n",
    "X = mnist_training_sample[0:10000]\n",
    "y = mnist_training_label[0:10000].ravel()\n",
    "clf.fit(X,y)\n",
    "y_pred = clf.predict(mnist_validation_sample[0:10000])\n",
    "metrics.accuracy_score(mnist_validation_label[0:10000], y_pred)"
   ]
  },
  {
   "cell_type": "code",
   "execution_count": 14,
   "metadata": {},
   "outputs": [
    {
     "data": {
      "image/png": "[encoded data removed]",
      "text/plain": [
       "<Figure size 432x288 with 1 Axes>"
      ]
     },
     "metadata": {
      "needs_background": "light"
     },
     "output_type": "display_data"
    }
   ],
   "source": [
    "plt.plot([1e-10, 1e-9, 1e-7, 1e-5, 1e-4, 1e5, 1e10, 1e20], [0.1016, 0.6451, 0.9248, 0.914, 0.905, 0.904, 0.904, 0.904])\n",
    "plt.ylabel(\"accuracy_score\")\n",
    "plt.xlabel(\"C value for Linear SVM for mnist\")\n",
    "plt.xscale('log')"
   ]
  },
  {
   "cell_type": "code",
   "execution_count": 14,
   "metadata": {},
   "outputs": [],
   "source": [
    "# Problem 5a\n",
    "data = io.loadmat(\"data/spam_data.mat\")\n",
    "spam_validation = data[\"training_data\"]\n",
    "spam_validation = np.concatenate((spam_validation, data[\"training_labels\"]), axis=1)\n",
    "np.random.shuffle(spam_validation)\n",
    "\n",
    "s1 = spam_validation[0:1035]\n",
    "s1_sample = s1[:, :-1]\n",
    "s1_label = s1[:, -1:]\n",
    "\n",
    "s2 = spam_validation[1035:2068]\n",
    "s2_sample = s2[:, :-1]\n",
    "s2_label = s2[:, -1:]\n",
    "\n",
    "s3 = spam_validation[2068:3102]\n",
    "s3_sample = s1[:, :-1]\n",
    "s3_label = s1[:, -1:]\n",
    "\n",
    "s4 = spam_validation[3102:4136]\n",
    "s4_sample = s4[:, :-1]\n",
    "s4_label = s4[:, -1:]\n",
    "\n",
    "s5 = spam_validation[4136:]\n",
    "s5_sample = s5[:, :-1]\n",
    "s5_label = s5[:, -1:]\n",
    "\n",
    "partition_sample = {\n",
    "    1 : s1_sample,\n",
    "    2 : s2_sample,\n",
    "    3 : s3_sample,\n",
    "    4 : s4_sample,\n",
    "    5 : s5_sample\n",
    "}\n",
    "\n",
    "partition_label = {\n",
    "    1 : s1_label,\n",
    "    2 : s2_label,\n",
    "    3 : s3_label,\n",
    "    4 : s4_label,\n",
    "    5 : s5_label\n",
    "}"
   ]
  },
  {
   "cell_type": "code",
   "execution_count": 17,
   "metadata": {
    "scrolled": false
   },
   "outputs": [
    {
     "data": {
      "text/plain": [
       "[8.539578802049059,\n",
       " 8.539578802049059,\n",
       " 8.539578802049059,\n",
       " 8.539578802049059,\n",
       " 8.782161130142814,\n",
       " 9.038292468661297,\n",
       " 9.04312900024805,\n",
       " 9.045063236224838]"
      ]
     },
     "execution_count": 17,
     "metadata": {},
     "output_type": "execute_result"
    }
   ],
   "source": [
    "def cross_valid(Cval):\n",
    "    clf = svm.SVC(kernel='linear', C=Cval)\n",
    "    average = 0\n",
    "    for i in range(1, 6):\n",
    "        sample_concat = []\n",
    "        label_concat = []\n",
    "        for j in range(1, 6):\n",
    "            if j != i:\n",
    "                sample_concat.append(partition_sample[j])\n",
    "                label_concat.append(partition_label[j])\n",
    "        X = np.concatenate(sample_concat, axis=0)\n",
    "        y = np.concatenate(label_concat, axis=0)\n",
    "        clf.fit(X, y.ravel())\n",
    "        y_pred = clf.predict(partition_sample[i])\n",
    "        average = average + metrics.accuracy_score(partition_label[i], y_pred)\n",
    "    average = average/5\n",
    "    return average\n",
    "print([cross_valid(1e-10), cross_valid(1e-9), cross_valid(1e-7), cross_valid(1e-5),\n",
    " cross_valid(1e-3), cross_valid(1), cross_valid(10), cross_valid(100)])"
   ]
  },
  {
   "cell_type": "code",
   "execution_count": 21,
   "metadata": {},
   "outputs": [
    {
     "data": {
      "text/plain": [
       "[0.7079157604098117,\n",
       " 0.7079157604098117,\n",
       " 0.7079157604098117,\n",
       " 0.7079157604098117,\n",
       " 0.7564322260285629,\n",
       " 0.8076584937322593,\n",
       " 0.8086258000496102,\n",
       " 0.8090126472449676]"
      ]
     },
     "execution_count": 21,
     "metadata": {},
     "output_type": "execute_result"
    }
   ],
   "source": [
    "A = [8.539578802049059,\n",
    " 8.539578802049059,\n",
    " 8.539578802049059,\n",
    " 8.539578802049059,\n",
    " 8.782161130142814,\n",
    " 9.038292468661297,\n",
    " 9.04312900024805,\n",
    " 9.045063236224838]\n",
    "\n",
    "def func(x):\n",
    "    x = x - 5\n",
    "    x = x/5\n",
    "    return x\n",
    "    \n",
    "list(map(func, A))"
   ]
  },
  {
   "cell_type": "code",
   "execution_count": 23,
   "metadata": {},
   "outputs": [
    {
     "data": {
      "image/png": "[encoded data removed]",
      "text/plain": [
       "<Figure size 432x288 with 1 Axes>"
      ]
     },
     "metadata": {
      "needs_background": "light"
     },
     "output_type": "display_data"
    }
   ],
   "source": [
    "plt.plot([1e-10, 1e-9, 1e-7, 1e-5, 1e-3, 1, 1e10, 1e100], [0.71, 0.71, 0.71, 0.71, 0.76, 0.81, 0.81, 0.81])\n",
    "plt.ylabel(\"accuracy_score\")\n",
    "plt.xlabel(\"C value for 5-fold cross validation of spam\")\n",
    "plt.xscale('log')"
   ]
  },
  {
   "cell_type": "code",
   "execution_count": 18,
   "metadata": {},
   "outputs": [
    {
     "data": {
      "text/plain": [
       "0.9859"
      ]
     },
     "execution_count": 18,
     "metadata": {},
     "output_type": "execute_result"
    }
   ],
   "source": [
    "# Problem 6 Mnist\n",
    "data = io.loadmat(\"data/mnist_data.mat\")\n",
    "mnist_training = data[\"training_data\"]\n",
    "mnist_training = np.concatenate((mnist_validation, data[\"training_labels\"]), axis=1)\n",
    "np.random.shuffle(mnist_validation)\n",
    "\n",
    "mnist_training = mnist_validation[10000:]\n",
    "mnist_training_sample = mnist_training[:, :-1]\n",
    "mnist_training_label = mnist_training[:, -1:]\n",
    "\n",
    "mnist = mnist_validation[0:10000]\n",
    "mnist_validation_sample = mnist[:, :-1]\n",
    "mnist_validation_label = mnist[:, -1:]\n",
    "                  \n",
    "clf = svm.SVC(kernel='rbf', C=100)\n",
    "clf.fit(mnist_training_sample, mnist_training_label.ravel())\n",
    "\n",
    "y_pred = clf.predict(mnist_validation_sample)\n",
    "metrics.accuracy_score(mnist_validation_label, y_pred)"
   ]
  },
  {
   "cell_type": "code",
   "execution_count": 19,
   "metadata": {},
   "outputs": [
    {
     "name": "stdout",
     "output_type": "stream",
     "text": [
      "0.9859\n"
     ]
    }
   ],
   "source": [
    "print(metrics.accuracy_score(mnist_validation_label, y_pred))\n",
    "y_pred = clf.predict(data[\"test_data\"])\n",
    "results_to_csv(y_pred)"
   ]
  },
  {
   "cell_type": "code",
   "execution_count": 20,
   "metadata": {},
   "outputs": [
    {
     "data": {
      "text/plain": [
       "0.8410672853828306"
      ]
     },
     "execution_count": 20,
     "metadata": {},
     "output_type": "execute_result"
    }
   ],
   "source": [
    "# Problem 6 spam\n",
    "data = io.loadmat(\"data/spam_data.mat\")\n",
    "spam_training = data[\"training_data\"]\n",
    "spam_training = np.concatenate((spam_validation, data[\"training_labels\"]), axis=1)\n",
    "np.random.shuffle(spam_validation)\n",
    "\n",
    "spam_training = spam_validation[:]\n",
    "spam_training_sample = spam_training[:, :-1]\n",
    "spam_training_label = spam_training[:, -1:]\n",
    "\n",
    "spam = spam_validation[:]\n",
    "spam_validation_sample = spam[:, :-1]\n",
    "spam_validation_label = spam[:, -1:]\n",
    "                  \n",
    "clf = svm.SVC(kernel='rbf', C=100)\n",
    "clf.fit(spam_training_sample, spam_training_label.ravel())\n",
    "\n",
    "y_pred = clf.predict(spam_validation_sample)\n",
    "metrics.accuracy_score(spam_validation_label, y_pred)"
   ]
  },
  {
   "cell_type": "code",
   "execution_count": 21,
   "metadata": {},
   "outputs": [
    {
     "name": "stdout",
     "output_type": "stream",
     "text": [
      "0.8410672853828306\n"
     ]
    }
   ],
   "source": [
    "print(metrics.accuracy_score(spam_validation_label, y_pred))\n",
    "y_pred = clf.predict(data[\"test_data\"])\n",
    "results_to_csv(y_pred)"
   ]
  },
  {
   "cell_type": "code",
   "execution_count": 6,
   "metadata": {},
   "outputs": [
    {
     "data": {
      "text/plain": [
       "0.478"
      ]
     },
     "execution_count": 6,
     "metadata": {},
     "output_type": "execute_result"
    }
   ],
   "source": [
    "# Problem 6 cifar10\n",
    "data = io.loadmat(\"data/cifar10_data.mat\")\n",
    "spam_training = data[\"training_data\"]\n",
    "spam_training = np.concatenate((cifar10_validation, data[\"training_labels\"]), axis=1)\n",
    "np.random.shuffle(cifar10_validation)\n",
    "\n",
    "cifar10_training = cifar10_validation[10000:20000]\n",
    "cifar10_training_sample = cifar10_training[:, :-1]\n",
    "cifar10_training_label = cifar10_training[:, -1:]\n",
    "\n",
    "cifar10 = cifar10_validation[0:10000]\n",
    "cifar10_validation_sample = cifar10[:, :-1]\n",
    "cifar10_validation_label = cifar10[:, -1:]\n",
    "                  \n",
    "clf = svm.SVC(kernel='rbf', C=100)\n",
    "clf.fit(cifar10_training_sample, cifar10_training_label.ravel())\n",
    "\n",
    "y_pred = clf.predict(cifar10_validation_sample)\n",
    "metrics.accuracy_score(cifar10_validation_label, y_pred)"
   ]
  },
  {
   "cell_type": "code",
   "execution_count": 8,
   "metadata": {},
   "outputs": [
    {
     "name": "stdout",
     "output_type": "stream",
     "text": [
      "0.478\n"
     ]
    }
   ],
   "source": [
    "print(metrics.accuracy_score(cifar10_validation_label, y_pred))\n",
    "y_pred = clf.predict(data[\"test_data\"])\n",
    "results_to_csv(y_pred)"
   ]
  },
  {
   "cell_type": "code",
   "execution_count": null,
   "metadata": {},
   "outputs": [],
   "source": [
    "data "
   ]
  }
 ],
 "metadata": {
  "kernelspec": {
   "display_name": "Python 3",
   "language": "python",
   "name": "python3"
  },
  "language_info": {
   "codemirror_mode": {
    "name": "ipython",
    "version": 3
   },
   "file_extension": ".py",
   "mimetype": "text/x-python",
   "name": "python",
   "nbconvert_exporter": "python",
   "pygments_lexer": "ipython3",
   "version": "3.7.6"
  }
 },
 "nbformat": 4,
 "nbformat_minor": 4
}
