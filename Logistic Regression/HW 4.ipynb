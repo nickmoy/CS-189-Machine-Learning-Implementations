{
 "cells": [
  {
   "cell_type": "code",
   "execution_count": 725,
   "metadata": {},
   "outputs": [],
   "source": [
    "import sys\n",
    "if sys.version_info[0] < 3:\n",
    "    raise Exception(\"Python 3 not detected.\")\n",
    "import numpy as np\n",
    "import matplotlib.pyplot as plt\n",
    "from sklearn import svm\n",
    "from sklearn import metrics\n",
    "from scipy import io\n",
    "from scipy.special import expit\n",
    "from save_csv import results_to_csv"
   ]
  },
  {
   "cell_type": "code",
   "execution_count": 49,
   "metadata": {},
   "outputs": [
    {
     "name": "stdout",
     "output_type": "stream",
     "text": [
      "[0.94784644 0.88079708 0.80218389 0.52497919]\n"
     ]
    }
   ],
   "source": [
    "# Problem 2 helper code\n",
    "\n",
    "X = np.array([[0.2, 3.1, 1.0],\n",
    "              [1.0, 3.0, 1.0],\n",
    "              [-0.2, 1.2, 1.0],\n",
    "              [1.0, 1.1, 1.0]])\n",
    "w = np.array([-1, 1, 0])\n",
    "y = np.array([1, 1, 0, 0])\n",
    "\n",
    "def sigmoid(x):\n",
    "    return 1/(1+np.exp(-x))\n",
    "\n",
    "s = sigmoid(np.dot(X, w))\n",
    "print(s)"
   ]
  },
  {
   "cell_type": "code",
   "execution_count": 50,
   "metadata": {},
   "outputs": [],
   "source": [
    "def update_w(w):\n",
    "    diag = [x*(1-x) for x in s]\n",
    "    omega = np.diag(diag)\n",
    "    mat = np.matmul(X.T, omega)\n",
    "    mat = np.matmul(mat, X)\n",
    "    mat = np.linalg.inv(mat)\n",
    "    mat = np.matmul(mat, X.T)\n",
    "    mat = np.matmul(mat, y - s)\n",
    "    return w + mat"
   ]
  },
  {
   "cell_type": "code",
   "execution_count": 52,
   "metadata": {},
   "outputs": [
    {
     "name": "stdout",
     "output_type": "stream",
     "text": [
      "[ 1.36602464  4.15753654 -9.19961627]\n",
      "[0.98132929 0.99042537 0.01116463 0.03695848]\n"
     ]
    }
   ],
   "source": [
    "w = update_w(w)\n",
    "print(w)\n",
    "s = sigmoid(np.dot(X,w))\n",
    "print(s)"
   ]
  },
  {
   "cell_type": "markdown",
   "metadata": {},
   "source": [
    "### Problem 3.2"
   ]
  },
  {
   "cell_type": "code",
   "execution_count": 718,
   "metadata": {},
   "outputs": [
    {
     "name": "stdout",
     "output_type": "stream",
     "text": [
      "\n",
      "loaded wine data!\n",
      "training_data:  (6000, 12)\n",
      "training_label:  (6000, 1)\n",
      "X:  (6000, 13)\n",
      "y:  (6000,)\n"
     ]
    }
   ],
   "source": [
    "# Problem 3.2\n",
    "\n",
    "data = io.loadmat(\"data/data.mat\")\n",
    "print(\"\\nloaded wine data!\")\n",
    "print(\"training_data: \", data['X'].shape)\n",
    "print(\"training_label: \", data['y'].shape)\n",
    "\n",
    "wine = data['X']\n",
    "label = data['y']\n",
    "\n",
    "np.random.seed(69420)\n",
    "wine = np.concatenate((wine, label), axis=1)\n",
    "np.random.shuffle(wine)\n",
    "\n",
    "#normalize X\n",
    "l_2 = [np.linalg.norm(x) for x in X]\n",
    "normalized = []\n",
    "for i in range(len(X)):\n",
    "    x = X[i]\n",
    "    if l_2[i] != 0:\n",
    "        x = [y / l_2[i] for y in x]\n",
    "    normalized.append(x[:])\n",
    "X = np.array(normalized)\n",
    "\n",
    "X = wine[:, :-1]\n",
    "X = np.concatenate((X, np.array(6000 * [[1]])), axis=1)\n",
    "y = wine[:, -1:]\n",
    "y = y.ravel()\n",
    "print(\"X: \", X.shape)\n",
    "print(\"y: \", y.shape)"
   ]
  },
  {
   "cell_type": "code",
   "execution_count": 710,
   "metadata": {},
   "outputs": [],
   "source": [
    "def update_s(w):\n",
    "    return expit(np.dot(X,w))\n",
    "\n",
    "def update_w(w, s):\n",
    "    first = np.matmul(X.T, y-s)\n",
    "    second = reg * w\n",
    "    return w + step * (first - second)\n",
    "\n",
    "def cost(w, s):\n",
    "    first = np.dot(y, np.log(np.clip(s, 1e-10, 1 - 1e-10)))\n",
    "    second = np.dot(np.ones(6000) - y, np.log(np.clip(np.ones(6000) - s, 1e-10, 1 - 1e-10)))\n",
    "    third = 0.5 * reg * (np.linalg.norm(w)**2)\n",
    "    \n",
    "    return - first - second + third\n",
    "\n",
    "step = 1e-07\n",
    "reg = 1e-02"
   ]
  },
  {
   "cell_type": "code",
   "execution_count": 711,
   "metadata": {},
   "outputs": [],
   "source": [
    "costs = []\n",
    "w = np.zeros(13)\n",
    "for i in range(20000):\n",
    "    s = update_s(w)\n",
    "    costs.append(cost(w,s))\n",
    "    w = update_w(w, s)"
   ]
  },
  {
   "cell_type": "code",
   "execution_count": 712,
   "metadata": {},
   "outputs": [
    {
     "name": "stdout",
     "output_type": "stream",
     "text": [
      "1001.1500495564111\n"
     ]
    }
   ],
   "source": [
    "print(costs[-1])"
   ]
  },
  {
   "cell_type": "code",
   "execution_count": 713,
   "metadata": {},
   "outputs": [
    {
     "data": {
      "text/plain": [
       "[<matplotlib.lines.Line2D at 0x12a44ea90>]"
      ]
     },
     "execution_count": 713,
     "metadata": {},
     "output_type": "execute_result"
    },
    {
     "data": {
      "image/png": "[encoded data removed]",
      "text/plain": [
       "<Figure size 432x288 with 1 Axes>"
      ]
     },
     "metadata": {
      "needs_background": "light"
     },
     "output_type": "display_data"
    }
   ],
   "source": [
    "plt.plot(range(20000), costs)"
   ]
  },
  {
   "cell_type": "markdown",
   "metadata": {},
   "source": [
    "### Problem 3.6"
   ]
  },
  {
   "cell_type": "code",
   "execution_count": 727,
   "metadata": {},
   "outputs": [],
   "source": [
    "data = io.loadmat(\"data/data.mat\")\n",
    "X_test = data['X_test']\n",
    "X_test = np.concatenate((X_test, np.array(len(X_test) * [[1]])), axis=1)\n",
    "s = sigmoid(np.dot(X_test, w))\n",
    "pred = np.array([1 if x > 0.5 else 0 for x in s])"
   ]
  },
  {
   "cell_type": "code",
   "execution_count": 728,
   "metadata": {},
   "outputs": [],
   "source": [
    "results_to_csv(pred)"
   ]
  },
  {
   "cell_type": "markdown",
   "metadata": {},
   "source": [
    "### Problem 3.4"
   ]
  },
  {
   "cell_type": "code",
   "execution_count": 667,
   "metadata": {},
   "outputs": [],
   "source": [
    "def update_s(w):\n",
    "    return expit(np.dot(X,w))\n",
    "\n",
    "def update_w(i, w, s):\n",
    "    first = X[i] * (y[i] - expit(np.dot(X[i], w)))\n",
    "    second = 2 * reg * w\n",
    "    return w + step * (first - second)\n",
    "\n",
    "def cost(w, s):\n",
    "    first = np.dot(y, np.log(np.clip(s, 1e-10, 1 - 1e-10)))\n",
    "    second = np.dot(np.ones(6000) - y, np.log(np.clip(np.ones(6000) - s, 1e-10, 1 - 1e-10)))\n",
    "    third = 0.5 * reg * (np.linalg.norm(w)**2)\n",
    "    \n",
    "    return - first - second + third\n",
    "\n",
    "step = 1e-05\n",
    "reg = 1e-09"
   ]
  },
  {
   "cell_type": "code",
   "execution_count": 668,
   "metadata": {},
   "outputs": [],
   "source": [
    "costs = []\n",
    "w = np.zeros(13)\n",
    "for i in range(10000):\n",
    "    s = update_s(w)\n",
    "    costs.append(cost(w,s))\n",
    "    w = update_w(i%6000, w, s)"
   ]
  },
  {
   "cell_type": "code",
   "execution_count": 669,
   "metadata": {},
   "outputs": [
    {
     "data": {
      "text/plain": [
       "[<matplotlib.lines.Line2D at 0x128bf9050>]"
      ]
     },
     "execution_count": 669,
     "metadata": {},
     "output_type": "execute_result"
    },
    {
     "data": {
      "image/png": "[encoded data removed]",
      "text/plain": [
       "<Figure size 432x288 with 1 Axes>"
      ]
     },
     "metadata": {
      "needs_background": "light"
     },
     "output_type": "display_data"
    }
   ],
   "source": [
    "plt.plot(range(10000), costs)"
   ]
  },
  {
   "cell_type": "code",
   "execution_count": 670,
   "metadata": {},
   "outputs": [
    {
     "data": {
      "text/plain": [
       "1642.6098337746778"
      ]
     },
     "execution_count": 670,
     "metadata": {},
     "output_type": "execute_result"
    }
   ],
   "source": [
    "costs[-1]"
   ]
  },
  {
   "cell_type": "markdown",
   "metadata": {},
   "source": [
    "### Problem 3.5"
   ]
  },
  {
   "cell_type": "code",
   "execution_count": 626,
   "metadata": {},
   "outputs": [],
   "source": [
    "delta = 1e-01\n",
    "costs = []\n",
    "w = np.zeros(13)\n",
    "for i in range(1, 10001):\n",
    "    step = delta/i\n",
    "    s = update_s(w)\n",
    "    costs.append(cost(w,s))\n",
    "    w = update_w(i%6000, w, s)"
   ]
  },
  {
   "cell_type": "code",
   "execution_count": 627,
   "metadata": {},
   "outputs": [
    {
     "data": {
      "text/plain": [
       "1333.7603263737797"
      ]
     },
     "execution_count": 627,
     "metadata": {},
     "output_type": "execute_result"
    }
   ],
   "source": [
    "costs[-1]"
   ]
  },
  {
   "cell_type": "code",
   "execution_count": 628,
   "metadata": {},
   "outputs": [
    {
     "data": {
      "text/plain": [
       "[<matplotlib.lines.Line2D at 0x12781ba90>]"
      ]
     },
     "execution_count": 628,
     "metadata": {},
     "output_type": "execute_result"
    },
    {
     "data": {
      "image/png": "[encoded data removed]",
      "text/plain": [
       "<Figure size 432x288 with 1 Axes>"
      ]
     },
     "metadata": {
      "needs_background": "light"
     },
     "output_type": "display_data"
    }
   ],
   "source": [
    "plt.plot(range(10000), costs)"
   ]
  },
  {
   "cell_type": "code",
   "execution_count": null,
   "metadata": {},
   "outputs": [],
   "source": []
  }
 ],
 "metadata": {
  "kernelspec": {
   "display_name": "Python 3",
   "language": "python",
   "name": "python3"
  },
  "language_info": {
   "codemirror_mode": {
    "name": "ipython",
    "version": 3
   },
   "file_extension": ".py",
   "mimetype": "text/x-python",
   "name": "python",
   "nbconvert_exporter": "python",
   "pygments_lexer": "ipython3",
   "version": "3.7.6"
  }
 },
 "nbformat": 4,
 "nbformat_minor": 4
}
